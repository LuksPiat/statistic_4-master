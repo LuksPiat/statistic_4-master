{
 "cells": [
  {
   "cell_type": "markdown",
   "metadata": {
    "collapsed": true
   },
   "source": [
    "# Rozkład Poissona\n",
    "Rozkład prawdopodobieństwa zmiennej losowej $X$ o rozkładzie Poissona z parametrem $\\lambda > 0$ wyraża się wzorem:\n",
    "$$\n",
    "P(X = k) = e^{-\\lambda} \\cdot \\frac{\\lambda^{k}}{k!}.\n",
    "$$\n"
   ]
  },
  {
   "cell_type": "code",
   "execution_count": 1,
   "metadata": {
    "collapsed": true
   },
   "outputs": [],
   "source": [
    "from scipy import stats\n",
    "import matplotlib.pyplot as plt\n",
    "import numpy as np"
   ]
  },
  {
   "cell_type": "markdown",
   "metadata": {},
   "source": [
    "# Zadanie \n",
    "Proszę:\n",
    "\n",
    " * zdefiniuj zmienną losową o rozkładzie  Poissona $\\lambda=2$ \n",
    " * narysuj dla niej gęstość i dystrybuantę \n",
    " * wylosuj próbkę i narysuj histogram \n",
    " * narysuj kilka gęstości rozkładu Poissona $\\lambda=1,4,10$ \n",
    " * policz skośność i kurtozę dla gęstości Poissona $\\lambda=1,4,10$"
   ]
  },
  {
   "cell_type": "markdown",
   "metadata": {},
   "source": [
    "# Zad \n",
    "\n",
    "Zdefiniuj zmienną losową o rozkładzie Poissona  $\\lambda=2$"
   ]
  },
  {
   "cell_type": "code",
   "execution_count": 2,
   "metadata": {
    "collapsed": false
   },
   "outputs": [
    {
     "data": {
      "text/plain": [
       "array([ 0.13533528,  0.27067057,  0.27067057,  0.18044704,  0.09022352])"
      ]
     },
     "execution_count": 2,
     "metadata": {},
     "output_type": "execute_result"
    }
   ],
   "source": [
    "p = 2\n",
    "pissDist = stats.poisson(p)\n",
    "pissDist.pmf(np.arange(5))"
   ]
  },
  {
   "cell_type": "markdown",
   "metadata": {},
   "source": [
    "# Zad \n",
    "\n",
    "\n",
    "Narysuj gęstość zmiennej losowej o rozkładzie Poissona"
   ]
  },
  {
   "cell_type": "code",
   "execution_count": null,
   "metadata": {
    "collapsed": true
   },
   "outputs": [],
   "source": []
  },
  {
   "cell_type": "markdown",
   "metadata": {},
   "source": [
    "# Zad \n",
    "\n",
    "\n",
    "Wylosuj próbkę i narysuj histogram"
   ]
  },
  {
   "cell_type": "code",
   "execution_count": null,
   "metadata": {
    "collapsed": true
   },
   "outputs": [],
   "source": []
  },
  {
   "cell_type": "markdown",
   "metadata": {},
   "source": [
    "# Zad \n",
    "\n",
    "\n",
    "Narysuj dystrybuantę zmiennej losowej o rozkładzie Poissona"
   ]
  },
  {
   "cell_type": "code",
   "execution_count": null,
   "metadata": {
    "collapsed": true
   },
   "outputs": [],
   "source": []
  },
  {
   "cell_type": "markdown",
   "metadata": {},
   "source": [
    "# Zad \n",
    "\n",
    "\n",
    "Policz momenty"
   ]
  },
  {
   "cell_type": "code",
   "execution_count": null,
   "metadata": {
    "collapsed": true
   },
   "outputs": [],
   "source": []
  }
 ],
 "metadata": {
  "kernelspec": {
   "display_name": "Python 3",
   "language": "python",
   "name": "python3"
  },
  "language_info": {
   "codemirror_mode": {
    "name": "ipython",
    "version": 3
   },
   "file_extension": ".py",
   "mimetype": "text/x-python",
   "name": "python",
   "nbconvert_exporter": "python",
   "pygments_lexer": "ipython3",
   "version": "3.6.6"
  }
 },
 "nbformat": 4,
 "nbformat_minor": 2
}
