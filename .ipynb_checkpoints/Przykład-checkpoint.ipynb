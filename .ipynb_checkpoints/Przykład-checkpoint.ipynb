{
 "cells": [
  {
   "cell_type": "code",
   "execution_count": 1,
   "metadata": {
    "collapsed": true
   },
   "outputs": [],
   "source": [
    "import matplotlib.pyplot as plt\n",
    "import numpy as np\n",
    "from scipy import stats\n",
    "from scipy import integrate"
   ]
  },
  {
   "cell_type": "markdown",
   "metadata": {},
   "source": [
    "# Przykład\n",
    "\n",
    "Narysuj wykres funkcji \n",
    " * $ f_1(x)=x $\n",
    " * $ f_2(x)=x^2 $\n",
    " \n",
    "oraz zamaluj obszar pod funkcjami na przedziale $[0.3,0.5]$."
   ]
  },
  {
   "cell_type": "code",
   "execution_count": 32,
   "metadata": {
    "collapsed": true
   },
   "outputs": [],
   "source": [
    "f1 = lambda x: x\n",
    "f2 = lambda x: x**2"
   ]
  },
  {
   "cell_type": "code",
   "execution_count": 39,
   "metadata": {},
   "outputs": [
    {
     "data": {
      "image/png": "[encoded data removed]",
      "text/plain": [
       "<Figure size 576x288 with 2 Axes>"
      ]
     },
     "metadata": {},
     "output_type": "display_data"
    }
   ],
   "source": [
    "x0=1\n",
    "\n",
    "x = np.linspace(-3,3,100)\n",
    "y1 = f1(x)\n",
    "y2 = f2(x)\n",
    "\n",
    "x_fill_1= np.linspace(0.3,0.5,100) \n",
    "y_fill_1= f1(x_fill_1) \n",
    "\n",
    "x_fill_2= np.linspace(0.3,0.5,100) \n",
    "y_fill_2= f2(x_fill_2) \n",
    "\n",
    "figs, axs = plt.subplots(1,2, figsize=(8, 4))\n",
    "\n",
    "axs[0].plot(x, y1, 'k')\n",
    "axs[0].set_xlim(-1,1)\n",
    "axs[0].set_ylim(0,1)\n",
    "axs[0].fill_between(x_fill_1, y_fill_1, facecolor='#CCCCCC')\n",
    "\n",
    "axs[1].plot(x, y2, 'k')\n",
    "axs[1].set_xlim(-1,1)\n",
    "axs[1].set_ylim(0,1)\n",
    "axs[1].fill_between(x_fill_2, y_fill_2, facecolor='#CCCCCC')\n",
    "\n",
    "# plt.vlines(x0, 0, nd.cdf(x0), linestyles='--')\n",
    "plt.show()"
   ]
  },
  {
   "cell_type": "markdown",
   "metadata": {},
   "source": [
    "# Zadanie\n",
    "\n",
    "Narysuj wykres funkcji \n",
    " * $ f_1(x)=(x+1) $\n",
    " * $ f_2(x)=(x+1)^2 $\n",
    " \n",
    "oraz zamaluj obszar pod funkcjami na przedzialach odpowiednio \n",
    " * $[0.1,0.3]$\n",
    " * $[0.3,0.4]$"
   ]
  },
  {
   "cell_type": "code",
   "execution_count": null,
   "metadata": {
    "collapsed": true
   },
   "outputs": [],
   "source": []
  },
  {
   "cell_type": "code",
   "execution_count": null,
   "metadata": {
    "collapsed": true
   },
   "outputs": [],
   "source": []
  }
 ],
 "metadata": {
  "kernelspec": {
   "display_name": "Python 3",
   "language": "python",
   "name": "python3"
  },
  "language_info": {
   "codemirror_mode": {
    "name": "ipython",
    "version": 3
   },
   "file_extension": ".py",
   "mimetype": "text/x-python",
   "name": "python",
   "nbconvert_exporter": "python",
   "pygments_lexer": "ipython3",
   "version": "3.6.3"
  }
 },
 "nbformat": 4,
 "nbformat_minor": 2
}
