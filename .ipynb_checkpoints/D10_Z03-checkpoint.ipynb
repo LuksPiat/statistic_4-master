{
 "cells": [
  {
   "cell_type": "code",
   "execution_count": 1,
   "metadata": {},
   "outputs": [
    {
     "name": "stderr",
     "output_type": "stream",
     "text": [
      "C:\\Users\\admin\\Anaconda3\\lib\\site-packages\\statsmodels\\compat\\pandas.py:56: FutureWarning: The pandas.core.datetools module is deprecated and will be removed in a future version. Please use the pandas.tseries module instead.\n",
      "  from pandas.core import datetools\n"
     ]
    }
   ],
   "source": [
    "import numpy as np\n",
    "import pandas as pd\n",
    "import matplotlib.pyplot as plt\n",
    "import statsmodels.api as sm"
   ]
  },
  {
   "cell_type": "markdown",
   "metadata": {},
   "source": [
    "W poniższym przykładzie posłużymy się zestawem danych reklamowych, obejmującym sprzedaż produktów i ich budżet reklamowy w trzech różnych mediach telewizyjnych, radiu, gazetach."
   ]
  },
  {
   "cell_type": "code",
   "execution_count": 2,
   "metadata": {},
   "outputs": [
    {
     "data": {
      "text/html": [
       "<div>\n",
       "<style>\n",
       "    .dataframe thead tr:only-child th {\n",
       "        text-align: right;\n",
       "    }\n",
       "\n",
       "    .dataframe thead th {\n",
       "        text-align: left;\n",
       "    }\n",
       "\n",
       "    .dataframe tbody tr th {\n",
       "        vertical-align: top;\n",
       "    }\n",
       "</style>\n",
       "<table border=\"1\" class=\"dataframe\">\n",
       "  <thead>\n",
       "    <tr style=\"text-align: right;\">\n",
       "      <th></th>\n",
       "      <th>TV</th>\n",
       "      <th>radio</th>\n",
       "      <th>newspaper</th>\n",
       "      <th>sales</th>\n",
       "    </tr>\n",
       "  </thead>\n",
       "  <tbody>\n",
       "    <tr>\n",
       "      <th>1</th>\n",
       "      <td>230.1</td>\n",
       "      <td>37.8</td>\n",
       "      <td>69.2</td>\n",
       "      <td>22.1</td>\n",
       "    </tr>\n",
       "    <tr>\n",
       "      <th>2</th>\n",
       "      <td>44.5</td>\n",
       "      <td>39.3</td>\n",
       "      <td>45.1</td>\n",
       "      <td>10.4</td>\n",
       "    </tr>\n",
       "    <tr>\n",
       "      <th>3</th>\n",
       "      <td>17.2</td>\n",
       "      <td>45.9</td>\n",
       "      <td>69.3</td>\n",
       "      <td>9.3</td>\n",
       "    </tr>\n",
       "    <tr>\n",
       "      <th>4</th>\n",
       "      <td>151.5</td>\n",
       "      <td>41.3</td>\n",
       "      <td>58.5</td>\n",
       "      <td>18.5</td>\n",
       "    </tr>\n",
       "    <tr>\n",
       "      <th>5</th>\n",
       "      <td>180.8</td>\n",
       "      <td>10.8</td>\n",
       "      <td>58.4</td>\n",
       "      <td>12.9</td>\n",
       "    </tr>\n",
       "  </tbody>\n",
       "</table>\n",
       "</div>"
      ],
      "text/plain": [
       "      TV  radio  newspaper  sales\n",
       "1  230.1   37.8       69.2   22.1\n",
       "2   44.5   39.3       45.1   10.4\n",
       "3   17.2   45.9       69.3    9.3\n",
       "4  151.5   41.3       58.5   18.5\n",
       "5  180.8   10.8       58.4   12.9"
      ]
     },
     "execution_count": 2,
     "metadata": {},
     "output_type": "execute_result"
    }
   ],
   "source": [
    "df_adv = pd.read_csv('http://www-bcf.usc.edu/~gareth/ISL/Advertising.csv', index_col=0)\n",
    "X = df_adv[['TV', 'radio']]\n",
    "y = df_adv['sales']\n",
    "df_adv.head()\n",
    "## fit a OLS model with intercept on TV and Radio\n",
    "#X = sm.add_constant(X)\n",
    "#est = sm.OLS(y, X).fit()\n",
    "#est.summary()"
   ]
  },
  {
   "cell_type": "markdown",
   "metadata": {},
   "source": [
    "# Zadanie 1\n",
    "wykonaj model pozwalający przewidzieć zmienną \"Sales\" na podstawie innych zmiennych.\n",
    "\n",
    "Wykonaj kilka modeli i je porównaj."
   ]
  },
  {
   "cell_type": "code",
   "execution_count": 13,
   "metadata": {},
   "outputs": [
    {
     "name": "stdout",
     "output_type": "stream",
     "text": [
      "                      Results: Ordinary least squares\n",
      "===========================================================================\n",
      "Model:                 OLS                 Adj. R-squared:        0.529    \n",
      "Dependent Variable:    sales               AIC:                   1079.9453\n",
      "Date:                  2018-08-26 14:34    BIC:                   1086.5419\n",
      "No. Observations:      200                 Log-Likelihood:        -537.97  \n",
      "Df Model:              1                   F-statistic:           224.2    \n",
      "Df Residuals:          198                 Prob (F-statistic):    2.16e-34 \n",
      "R-squared:             0.531               Scale:                 12.831   \n",
      "---------------------------------------------------------------------------\n",
      "                             Coef.  Std.Err.    t    P>|t|   [0.025  0.975]\n",
      "---------------------------------------------------------------------------\n",
      "Intercept                   11.4419   0.3064 37.3468 0.0000 10.8378 12.0461\n",
      "I(TV):I(radio):I(newspaper)  0.0000   0.0000 14.9725 0.0000  0.0000  0.0000\n",
      "---------------------------------------------------------------------------\n",
      "Omnibus:                  16.676          Durbin-Watson:             2.024 \n",
      "Prob(Omnibus):            0.000           Jarque-Bera (JB):          23.727\n",
      "Skew:                     0.524           Prob(JB):                  0.000 \n",
      "Kurtosis:                 4.323           Condition No.:             268702\n",
      "===========================================================================\n",
      "* The condition number is large (3e+05). This might indicate\n",
      "strong multicollinearity or other numerical problems.\n"
     ]
    }
   ],
   "source": [
    "import statsmodels.formula.api as smf\n",
    "\n",
    "# formula: response ~ predictor + predictor\n",
    "est = smf.ols(formula='sales ~   I(TV):I(radio):I(newspaper) ', data=df_adv).fit()\n",
    "print((est.summary2()))"
   ]
  },
  {
   "cell_type": "code",
   "execution_count": 4,
   "metadata": {},
   "outputs": [
    {
     "name": "stdout",
     "output_type": "stream",
     "text": [
      "                  Results: Ordinary least squares\n",
      "====================================================================\n",
      "Model:                OLS              Adj. R-squared:     0.994    \n",
      "Dependent Variable:   sales            AIC:                217.5302 \n",
      "Date:                 2018-08-26 14:31 BIC:                243.9167 \n",
      "No. Observations:     200              Log-Likelihood:     -100.77  \n",
      "Df Model:             7                F-statistic:        4605.    \n",
      "Df Residuals:         192              Prob (F-statistic): 3.96e-210\n",
      "R-squared:            0.994            Scale:              0.16706  \n",
      "---------------------------------------------------------------------\n",
      "                  Coef.   Std.Err.     t     P>|t|    [0.025   0.975]\n",
      "---------------------------------------------------------------------\n",
      "Intercept         2.6975    0.2070  13.0340  0.0000   2.2893   3.1057\n",
      "I(TV ** 1)        0.1008    0.0063  15.8863  0.0000   0.0883   0.1134\n",
      "I(TV ** 2)       -0.0026    0.0003  -9.8931  0.0000  -0.0031  -0.0021\n",
      "I(TV ** 3)        0.0000    0.0000   7.7189  0.0000   0.0000   0.0000\n",
      "I(TV ** 4)       -0.0000    0.0000  -6.5300  0.0000  -0.0000  -0.0000\n",
      "I(TV ** 5)        0.0000    0.0000   5.7519  0.0000   0.0000   0.0000\n",
      "I(radio)          0.0430    0.0039  11.0142  0.0000   0.0353   0.0507\n",
      "I(TV)             0.1006    0.0064  15.8256  0.0000   0.0881   0.1132\n",
      "I(radio):I(TV)    0.0010    0.0000  45.2725  0.0000   0.0010   0.0011\n",
      "--------------------------------------------------------------------\n",
      "Omnibus:       119.744 Durbin-Watson:    2.251                      \n",
      "Prob(Omnibus): 0.000   Jarque-Bera (JB): 1738.538                   \n",
      "Skew:          -1.927  Prob(JB):         0.000                      \n",
      "Kurtosis:      16.920  Condition No.:    270549203622698360311382016\n",
      "====================================================================\n",
      "* The condition number is large (3e+26). This might indicate\n",
      "strong multicollinearity or other numerical problems.\n"
     ]
    }
   ],
   "source": [
    "import statsmodels.formula.api as smf\n",
    "\n",
    "# formula: response ~ predictor + predictor\n",
    "est = smf.ols(formula='sales ~   I(TV**1) + I(TV**2) + I(TV**3) + I(TV**4) + I(TV**5) + I(radio)*I(TV) ', data=df_adv).fit()\n",
    "print((est.summary2()))"
   ]
  },
  {
   "cell_type": "markdown",
   "metadata": {},
   "source": [
    "# Zadanie 2\n",
    "naucz model postaci \"Sales ~ TV + Radio\"\n",
    "i zwizualizuj to n wykresie 2d."
   ]
  },
  {
   "cell_type": "code",
   "execution_count": null,
   "metadata": {
    "collapsed": true
   },
   "outputs": [],
   "source": []
  }
 ],
 "metadata": {
  "kernelspec": {
   "display_name": "Python 3",
   "language": "python",
   "name": "python3"
  },
  "language_info": {
   "codemirror_mode": {
    "name": "ipython",
    "version": 3
   },
   "file_extension": ".py",
   "mimetype": "text/x-python",
   "name": "python",
   "nbconvert_exporter": "python",
   "pygments_lexer": "ipython3",
   "version": "3.6.3"
  }
 },
 "nbformat": 4,
 "nbformat_minor": 2
}
