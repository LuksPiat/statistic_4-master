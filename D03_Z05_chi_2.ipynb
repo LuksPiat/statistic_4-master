{
 "cells": [
  {
   "cell_type": "markdown",
   "metadata": {},
   "source": [
    "# Rozkład chi kwadrat\n",
    "Jeżeli $(X_1,\\ldots,X_n)$ jest próbka prostą z rozkładu $N(\\mu,\\sigma^2)$ to zmienna losowa\n",
    "$$\n",
    "\\frac{(n-1)S^{*2}}{\\sigma^2},\n",
    "$$\n",
    "gdzie\n",
    "$$\n",
    "S^{*2}= \\frac{1}{n-1} \\sum_{i=1}^{n} (X_i - \\bar X)^2, \\quad \\bar X = \\frac{1}{n} \\sum_{i=1}^{n} X_i\n",
    "$$\n",
    "ma rozkład $\\chi^{2}_{n-1}$ (chi kwadrat z $n-1$ stopniami swobody)."
   ]
  },
  {
   "cell_type": "code",
   "execution_count": 1,
   "metadata": {
    "collapsed": true
   },
   "outputs": [],
   "source": [
    "import numpy as np\n",
    "from scipy import stats\n",
    "from scipy import integrate\n",
    "import matplotlib.pyplot as plt"
   ]
  },
  {
   "cell_type": "markdown",
   "metadata": {},
   "source": [
    "# Zadania 1\n",
    "Producent pigułek na ból głowy zobowiązał się dostarczyć pigułki z odchyleniem standardowym $\\sigma = 0.05$. \n",
    "\n",
    "Z pewnej partii pigułek wybrano próbkę $n=13$ pigułek o wagach: \n",
    "\n",
    "3.04, 2.94, 3.01, 3.00, 2.94, 2.91, 3.02, 3.04, 3.09, 2.95, 2.99, 3.10, 3.02 g.\n",
    "\n",
    "\n",
    "Pytanie: Czy odchylenie standardowe jest większe niż dozwolone?"
   ]
  },
  {
   "cell_type": "code",
   "execution_count": 14,
   "metadata": {
    "collapsed": false
   },
   "outputs": [],
   "source": [
    "data = np.r_[3.04, 2.94, 3.01, 3.00, 2.94, 2.91, 3.02, 3.04, 3.09, 2.95, 2.99, 3.10, 3.02]\n",
    "q = np.std(data, ddof=1)"
   ]
  },
  {
   "cell_type": "markdown",
   "metadata": {},
   "source": [
    "Stawiamy hipotezę, że odchylenie jest mniejsze od ustalonego $\\sigma$."
   ]
  },
  {
   "cell_type": "markdown",
   "metadata": {},
   "source": [
    "Zdefiniujmy zmienną losową o rozkładzie chi kwadrat z $n-1$ stopniami swobody:"
   ]
  },
  {
   "cell_type": "code",
   "execution_count": 21,
   "metadata": {
    "collapsed": false
   },
   "outputs": [],
   "source": [
    "x = stats.chi2(12)"
   ]
  },
  {
   "cell_type": "markdown",
   "metadata": {},
   "source": [
    "Zauważmy, że:\n",
    "$$\n",
    "\\frac{(n-1)S^{*2}}{\\sigma^2} = \\frac{(n-1)\\frac{1}{(n-1)} \\sum_{i=1}^{n} (X_i - \\bar X)^2}{\\sigma^2} =  \\frac{  \\sum_{i=1}^{n} (X_i - \\bar X)^2}{\\sigma^2}\n",
    "$$"
   ]
  },
  {
   "cell_type": "markdown",
   "metadata": {},
   "source": [
    "Wartość statystyki wynosi:"
   ]
  },
  {
   "cell_type": "code",
   "execution_count": 18,
   "metadata": {
    "collapsed": false
   },
   "outputs": [
    {
     "data": {
      "text/plain": [
       "15.963076923076903"
      ]
     },
     "execution_count": 18,
     "metadata": {},
     "output_type": "execute_result"
    }
   ],
   "source": [
    "stat = sum((np.mean(data)-data)**2/(0.05**2))\n",
    "stat"
   ]
  },
  {
   "cell_type": "markdown",
   "metadata": {},
   "source": [
    "Przy założeniu prawdziwości hipotezy zerowej, prawdopodobieństwo, że wypadła wartość naszej statystyki wynosi:"
   ]
  },
  {
   "cell_type": "code",
   "execution_count": 20,
   "metadata": {
    "collapsed": false
   },
   "outputs": [
    {
     "data": {
      "text/plain": [
       "0.19293306654285183"
      ]
     },
     "execution_count": 20,
     "metadata": {},
     "output_type": "execute_result"
    }
   ],
   "source": [
    "X.sf(stat)"
   ]
  },
  {
   "cell_type": "code",
   "execution_count": 19,
   "metadata": {
    "collapsed": false
   },
   "outputs": [
    {
     "data": {
      "text/plain": [
       "0.19293306654285181"
      ]
     },
     "execution_count": 19,
     "metadata": {},
     "output_type": "execute_result"
    }
   ],
   "source": [
    "1 - x.cdf(stat)"
   ]
  },
  {
   "cell_type": "markdown",
   "metadata": {},
   "source": [
    "# Zadanie 2\n",
    "Wykonaj odpowiedni rysunek na gęstości i dystrubuancie rozkładu chi kwadrat."
   ]
  },
  {
   "cell_type": "code",
   "execution_count": null,
   "metadata": {
    "collapsed": false
   },
   "outputs": [],
   "source": []
  },
  {
   "cell_type": "code",
   "execution_count": null,
   "metadata": {
    "collapsed": true
   },
   "outputs": [],
   "source": []
  }
 ],
 "metadata": {
  "kernelspec": {
   "display_name": "Python 3",
   "language": "python",
   "name": "python3"
  },
  "language_info": {
   "codemirror_mode": {
    "name": "ipython",
    "version": 3
   },
   "file_extension": ".py",
   "mimetype": "text/x-python",
   "name": "python",
   "nbconvert_exporter": "python",
   "pygments_lexer": "ipython3",
   "version": "3.6.6"
  }
 },
 "nbformat": 4,
 "nbformat_minor": 2
}
