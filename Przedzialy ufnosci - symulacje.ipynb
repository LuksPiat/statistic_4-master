{
 "cells": [
  {
   "cell_type": "markdown",
   "metadata": {},
   "source": [
    "# Przedziały ufności - symulacje\n",
    "Generujemy $k$ próbek $n$-elementowych z rozkładu normalnego $N(\\mu,\\sigma)$.<br>\n",
    "Wyznaczamy przedziały ufności dla średniej $\\mu$ na poziomie ufności $1-\\alpha$.<br>\n",
    "Domyslnie $k=100$, $n=100$, $\\mu=0$, $\\sigma=1$, $\\alpha=0.05$."
   ]
  },
  {
   "cell_type": "code",
   "execution_count": 54,
   "metadata": {},
   "outputs": [],
   "source": [
    "import matplotlib.pyplot as plt\n",
    "import numpy as np\n",
    "from scipy import stats\n",
    "from scipy import integrate"
   ]
  },
  {
   "cell_type": "markdown",
   "metadata": {},
   "source": [
    "## Model 1.\n",
    "Przedział ufności dla <b>nieznanej wartości średniej $\\mu$</b> populacji, w której <b>badana cecha ma rozkład $N(\\mu,\\sigma)$</b>, w przypadku gdy <b>$\\sigma$ jest znana</b>, na podstawie $n$-elementowej próby prostej $X_1,\\ldots,X_n$.\n",
    "\n",
    "$$\n",
    "\\left( \\bar X - u(1-\\frac{\\alpha}{2}) \\frac{\\sigma}{\\sqrt{n}} , \\bar X + u(1-\\frac{\\alpha}{2}) \\frac{\\sigma}{\\sqrt{n}} \\right)\n",
    "$$\n",
    "gdzie \n",
    "\n",
    "$$\n",
    "\\bar X = \\frac{1}{n} \\sum_{i=1}^{n} X_{i} \n",
    "$$\n",
    "\n",
    "oraz $u(\\alpha)$ oznacza kwantyl rzędu $\\alpha$ rozkładu normalnego $N(0,1)$."
   ]
  },
  {
   "cell_type": "code",
   "execution_count": 58,
   "metadata": {},
   "outputs": [
    {
     "name": "stdout",
     "output_type": "stream",
     "text": [
      "(-0.3958175326487462, -0.0038247357407354132)\n",
      "(-0.43757340769120834, -0.045580610783197556)\n",
      "(-0.4309560009959382, -0.03896320408792739)\n",
      "Częstość przedziałów niezawierających wartosci mi: 0.03\n"
     ]
    }
   ],
   "source": [
    "mu=0\n",
    "sigma=1\n",
    "norm_dist = stats.norm(mu,sigma)\n",
    "alpha = 0.05\n",
    "k=100 #liczba generowowanych próbek \n",
    "n=100 #liczba danych w próbce\n",
    "licznik = 0\n",
    "for i in range(k):\n",
    "    data = norm_dist.rvs(size=n)\n",
    "    ci = stats.norm.interval(1-alpha, loc=np.mean(data), scale=sigma/np.sqrt(n))\n",
    "    if ci[0]>mu or ci[1]<mu:\n",
    "        licznik = licznik +1\n",
    "        print(ci)\n",
    "print('Częstość przedziałów niezawierających wartosci mi:', r'%2.2f' %(licznik/k))"
   ]
  },
  {
   "cell_type": "markdown",
   "metadata": {},
   "source": [
    "## Model 2.\n",
    "Przedział ufności dla <b>nieznanej wartości przeciętnej $\\mu$</b> populacji, w której <b>badana cecha ma rozkład $N(\\mu,\\sigma^2)$</b>, w przypadku gdy <b>zarówno $\\mu$ jak $\\sigma$ są nieznane</b>, na podstawie $n$--elementowej próby $X_1,\\ldots,X_n$ <b>($n<100$)</b> \n",
    "wynosi\n",
    "\n",
    "$$\n",
    "\\left(\n",
    "\\bar X - t \\left(1-\\frac{\\alpha}{2},n-1 \\right) \\frac{S}{\\sqrt{n-1}},\n",
    "\\bar X + t \\left(1-\\frac{\\alpha}{2},n-1 \\right) \\frac{S}{\\sqrt{n-1}}\n",
    "\\right)\n",
    "$$\n",
    "\n",
    "gdzie \n",
    "\n",
    "$$\n",
    "S^2 = \\frac{1}{n} \\sum_{i=1}^{n} (X_{i} - \\bar X)^2\n",
    "\\mbox{ oraz }\n",
    "\\bar X = \\frac{1}{n} \\sum_{i=1}^{n} X_{i} \n",
    "$$\n",
    "\n",
    "oraz $t(\\alpha,n)$ oznacza kwantyl rzędu $\\alpha$ o $n$ stopniach swobody rozkładu $t$--Studenta."
   ]
  },
  {
   "cell_type": "code",
   "execution_count": 50,
   "metadata": {},
   "outputs": [
    {
     "name": "stdout",
     "output_type": "stream",
     "text": [
      "(-0.42761184586430045, -0.03697969553569966)\n",
      "(0.0018520887489457127, 0.3842512739444701)\n",
      "(-0.3540341226917328, -0.003221284174604766)\n",
      "(0.001262711305357822, 0.32710480594893887)\n",
      "Częstość przedziałów niezawierających wartosci mi: 0.04\n"
     ]
    }
   ],
   "source": [
    "mu=0\n",
    "sigma=1\n",
    "norm_dist = stats.norm(mu,sigma)\n",
    "alpha = 0.05\n",
    "k=100 #liczba generowowanych próbek \n",
    "n=100 #liczba danych w próbce\n",
    "licznik = 0\n",
    "for i in range(k):\n",
    "    data = norm_dist.rvs(size=n)\n",
    "    ci = stats.t.interval(1-alpha, n-1, loc=np.mean(data), scale=np.std(data, ddof=0)/np.sqrt(n-1))\n",
    "    if ci[0]>mu or ci[1]<mu:\n",
    "        licznik = licznik +1\n",
    "        print(ci)\n",
    "print('Częstość przedziałów niezawierających wartosci mi:', r'%2.2f' %(licznik/k))"
   ]
  },
  {
   "cell_type": "markdown",
   "metadata": {},
   "source": [
    "## Model 3.\n",
    "Przedział ufności dla <b>nieznanej wartości przeciętnej $\\mu$</b> populacji, w której </b>badana cecha ma rozkład $N(\\mu,\\sigma^2)$</b>, w przypadku gdy <b>zarówno $\\mu$ jak $\\sigma$ są nieznane</b>, na podstawie $n$--elementowej próby $X_1,\\ldots,X_n$ <b>($n\n",
    "\\geq100$)</b> wynosi\n",
    "\n",
    "$$\n",
    "\\left(\n",
    "\\bar X - u \\left(1-\\frac{\\alpha}{2} \\right) \\frac{S^{*}}{\\sqrt{n}},\n",
    "\\bar X + u \\left(1-\\frac{\\alpha}{2} \\right) \\frac{S^{*}}{\\sqrt{n}}\n",
    "\\right)\n",
    "$$\n",
    "\n",
    "gdzie $u(\\alpha)$ oznacza kwantyl rzędu $\\alpha$ rozkładu normalnego $N(0,1)$ oraz\n",
    "\n",
    "$$\n",
    "S^{*2} = \\frac{1}{n-1} \\sum_{i=1}^{n} (X_{i} - \\bar X)^2.\n",
    "$$"
   ]
  },
  {
   "cell_type": "code",
   "execution_count": 53,
   "metadata": {},
   "outputs": [
    {
     "name": "stdout",
     "output_type": "stream",
     "text": [
      "(0.005242641762597311, 0.42338773757895953)\n",
      "(-0.4710374110719544, -0.10827712271602849)\n",
      "(0.05438238985959559, 0.444460458284581)\n",
      "(-0.4304078143504039, -0.019452866398923047)\n",
      "(0.05784288161292597, 0.4117405917112653)\n",
      "Częstość przedziałów niezawierających wartosci mi: 0.05\n"
     ]
    }
   ],
   "source": [
    "mu=0\n",
    "sigma=1\n",
    "norm_dist = stats.norm(mu,sigma)\n",
    "alpha = 0.05\n",
    "k=100 #liczba generowowanych próbek \n",
    "n=100 #liczba danych w próbce\n",
    "licznik = 0\n",
    "for i in range(k):\n",
    "    data = norm_dist.rvs(size=n)\n",
    "    ci = stats.norm.interval(1-alpha, loc=np.mean(data), scale=np.std(data, ddof=1)/np.sqrt(n))\n",
    "    if ci[0]>mu or ci[1]<mu:\n",
    "        licznik = licznik +1\n",
    "        print(ci)\n",
    "print('Częstość przedziałów niezawierających wartosci mi:', r'%2.2f' %(licznik/k))"
   ]
  },
  {
   "cell_type": "code",
   "execution_count": null,
   "metadata": {},
   "outputs": [],
   "source": []
  }
 ],
 "metadata": {
  "kernelspec": {
   "display_name": "Python 3",
   "language": "python",
   "name": "python3"
  },
  "language_info": {
   "codemirror_mode": {
    "name": "ipython",
    "version": 3
   },
   "file_extension": ".py",
   "mimetype": "text/x-python",
   "name": "python",
   "nbconvert_exporter": "python",
   "pygments_lexer": "ipython3",
   "version": "3.7.0"
  }
 },
 "nbformat": 4,
 "nbformat_minor": 2
}
