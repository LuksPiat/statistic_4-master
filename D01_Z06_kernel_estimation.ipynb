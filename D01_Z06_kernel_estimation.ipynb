{
 "cells": [
  {
   "cell_type": "markdown",
   "metadata": {},
   "source": [
    "# Estymator jądrowy gęstości\n",
    "\n",
    "Estymator jądrowy gęstości lub jądrowy estymator gęstości to rodzaj estymatora nieparametrycznego, przeznaczony do wyznaczania gęstości <b> rozkładu zmiennej losowej</b> (my na razie myślimy o rozkładzie punktów), na podstawie uzyskanej próby, czyli wartości jakie badana zmienna przyjęła w trakcie dotychczasowych pomiarów.\n",
    "\n",
    "Niech dany będzie $d$-wymiarowy zbiór danych $X$. Jego estymator jądrowy\n",
    "$$ \n",
    "\\hat{f} : \\mathbb{R}^d \\to [0,\\infty) \n",
    "$$\n",
    "wyznacza się w oparciu o wartości $n$-elementowej próby losowej\n",
    "$\n",
    "x_{1},x_{2},...,x_{n}\n",
    "$\n",
    "w swej podstawowej formie jest on definiowany wzorem:\n",
    "$$ \n",
    "\\hat{f}(x) = \\frac{1}{nh^d}\\sum_{i=1}^{n} K\\left(\\frac{x-x_i}{h}\\right)\\ ,\n",
    "$$\n",
    "gdzie mierzalna, symetryczna względem zera oraz posiadająca w tym punkcie słabe maksimum globalne funkcja: \n",
    "$$ \n",
    "K : \\mathbb{R}^d \\to [0,\\infty)\n",
    "$$ \n",
    "spełnia warunek $ \\int_{\\mathbb{R}^n}{K(x)dx}=1$ i nazywana jest jądrem, natomiast dodatni współczynnik $h$ określa się mianem parametru wygładzania.\n",
    "\n",
    "\n",
    "Najefektywniejszym w sensie kryterium błędu średniokwadratowego jest tak zwane jądro Epanecznikowa:\n",
    "$$\n",
    "K(x) =\n",
    " \\begin{cases}\n",
    " \\frac{3}{4}(1-x^2) & \\mbox{dla } x \\in [-1,1]\\\\\n",
    " 0 & \\mbox{dla } x\\in(-\\infty,-1)\\cup(1,\\infty)\n",
    " \\end{cases}.\n",
    "$$\n",
    "Można też używać gęstości rozkładu normalnego.\n",
    "\n",
    "\n",
    "\n"
   ]
  },
  {
   "cell_type": "code",
   "execution_count": 1,
   "metadata": {
    "collapsed": true
   },
   "outputs": [],
   "source": [
    "import numpy as np\n",
    "import matplotlib.pyplot as plt\n",
    "from scipy import stats\n",
    "import seaborn as sns"
   ]
  },
  {
   "cell_type": "markdown",
   "metadata": {},
   "source": [
    "# plotNorm\n",
    "Poniższa funkcja rysuje jądro araz do tabliccy <tt>xcum</tt>, <tt>ycum</tt> dodaje wartości estymowanej funkcji gestości."
   ]
  },
  {
   "cell_type": "code",
   "execution_count": 2,
   "metadata": {
    "collapsed": true
   },
   "outputs": [],
   "source": [
    "def plotNorm(pos, sd, xcum, ycum):\n",
    "    ''' Plot individual curves '''\n",
    "    \n",
    "    x = np.arange(pos-3*sd, pos+3*sd, 0.1)\n",
    "    nd = stats.norm(pos, sd)\n",
    "    y = nd.pdf(x)\n",
    "    plt.plot(x,y/10, 'r--')\n",
    "    \n",
    "    # Cumulative curve\n",
    "    xcr = np.round(xcum*10)\n",
    "    xir = np.round(x*10)\n",
    "    for ii in range(len(xir)):\n",
    "        ycum[xcr==xir[ii]] += y[ii]\n",
    "    return ycum"
   ]
  },
  {
   "cell_type": "markdown",
   "metadata": {},
   "source": [
    "Wygenerujmy prosty zbiór danych, narysujmy histogram oraz wyestymowaną gęstość."
   ]
  },
  {
   "cell_type": "code",
   "execution_count": 3,
   "metadata": {
    "collapsed": false
   },
   "outputs": [
    {
     "name": "stderr",
     "output_type": "stream",
     "text": [
      "/home/lukasz/anaconda3/lib/python3.6/site-packages/matplotlib/axes/_axes.py:6510: MatplotlibDeprecationWarning: \n",
      "The 'normed' kwarg was deprecated in Matplotlib 2.1 and will be removed in 3.1. Use 'density' instead.\n",
      "  alternative=\"'density'\", removal=\"3.1\")\n"
     ]
    },
    {
     "data": {
      "image/png": "[encoded data removed]",
      "text/plain": [
       "<Figure size 432x288 with 2 Axes>"
      ]
     },
     "metadata": {},
     "output_type": "display_data"
    }
   ],
   "source": [
    "# Generate dummy data\n",
    "data = np.array([-2.1, -1.3, -0.4, 1.9, 5.1, 6.2])\n",
    "\n",
    "# Define the two plots\n",
    "fig, ax = plt.subplots(1,2)\n",
    "ax[0].hist(data, bins=6, range=[-4, 8], normed=True)\n",
    "ax[0].set_xlim(-6, 11)\n",
    "ax[0].set_ylim(-0.005, 0.18)\n",
    "ax[0].set_xlabel('x')\n",
    "ax[0].set_ylabel('Density Function')\n",
    "# Prepare cumulative arrays\n",
    "xcum = np.arange(-6, 11, 0.1)\n",
    "ycum = np.zeros_like(xcum)\n",
    "\n",
    "# Width of the individual Gaussians\n",
    "var = 2.25\n",
    "sd = np.sqrt(var)\n",
    "\n",
    "# Plot individual Gaussians\n",
    "ax[1].set_xlim(-6, 11)\n",
    "ax[1].set_ylim(-0.005, 0.18)\n",
    "ax[1].set_xlabel('x')\n",
    "ax[1].axhline(0)\n",
    "\n",
    "for ii in range(len(data)):\n",
    "    ax[1].plot([data,data], [0, -0.005], 'b')    \n",
    "    ycum = plotNorm(data[ii], sd, xcum, ycum)\n",
    "\n",
    "    # Plot cumulative curve\n",
    "ycum /= np.sum(ycum)/10\n",
    "ax[1].plot(xcum, ycum)\n",
    "\n",
    "\n",
    "plt.show()"
   ]
  },
  {
   "cell_type": "markdown",
   "metadata": {},
   "source": [
    "# Zadanie 1\n",
    "Wygeneruj gęstość za pomocą estymacji gęstości z bibljoteki <tt>seaborn</tt> (<tt>sns.kdeplot</tt>).\n",
    "Czy dostajemy dokładnie tan sam wykres?"
   ]
  },
  {
   "cell_type": "code",
   "execution_count": 5,
   "metadata": {
    "collapsed": false
   },
   "outputs": [
    {
     "data": {
      "image/png": "[encoded data removed]",
      "text/plain": [
       "<Figure size 432x288 with 1 Axes>"
      ]
     },
     "metadata": {},
     "output_type": "display_data"
    }
   ],
   "source": [
    "sns.kdeplot(data)\n",
    "plt.show()"
   ]
  },
  {
   "cell_type": "markdown",
   "metadata": {},
   "source": [
    "# Zadanie 2\n",
    "Ustal szerokość okna $h$ za pomocą stałej Silvermana:\n",
    "$$h = \\left(\\frac{4\\hat{\\sigma}^5}{3n}\\right)^{\\frac{1}{5}} \\approx 1.06 \\hat{\\sigma} n^{-1/5},$$\n",
    "gdzie $\\sigma$ jest odchyleniem standardowym. "
   ]
  },
  {
   "cell_type": "code",
   "execution_count": null,
   "metadata": {
    "collapsed": true
   },
   "outputs": [],
   "source": []
  },
  {
   "cell_type": "markdown",
   "metadata": {},
   "source": [
    "# Zadanie 3\n",
    "Wygeneruj estymację gęstości za pomocą jądra będącego gęstością rozkładu jednostajnego."
   ]
  },
  {
   "cell_type": "code",
   "execution_count": null,
   "metadata": {
    "collapsed": true
   },
   "outputs": [],
   "source": []
  }
 ],
 "metadata": {
  "kernelspec": {
   "display_name": "Python 3",
   "language": "python",
   "name": "python3"
  },
  "language_info": {
   "codemirror_mode": {
    "name": "ipython",
    "version": 3
   },
   "file_extension": ".py",
   "mimetype": "text/x-python",
   "name": "python",
   "nbconvert_exporter": "python",
   "pygments_lexer": "ipython3",
   "version": "3.6.6"
  }
 },
 "nbformat": 4,
 "nbformat_minor": 1
}
